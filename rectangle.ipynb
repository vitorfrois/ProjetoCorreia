{
 "cells": [
  {
   "cell_type": "code",
   "execution_count": 1,
   "metadata": {},
   "outputs": [],
   "source": [
    "import cv2 as cv\n",
    "import numpy as np\n",
    "import seaborn as sns\n",
    "\n",
    "font = cv.FONT_HERSHEY_SIMPLEX\n",
    "org = (50, 50)\n",
    "fontScale = 1\n",
    "color = (255, 255, 255)\n",
    "thickness = 2\n",
    "\n",
    "kernel = np.ones((3,3),np.uint8)\n"
   ]
  },
  {
   "cell_type": "code",
   "execution_count": 2,
   "metadata": {},
   "outputs": [],
   "source": [
    "def compute_lines(line: np.array):\n",
    "    rho,theta = line[0]\n",
    "    a = np.cos(theta)\n",
    "    b = np.sin(theta)\n",
    "    x0 = a*rho\n",
    "    y0 = b*rho\n",
    "    x1 = int(x0 + 480*(-b))\n",
    "    y1 = int(y0 + 600*(a))\n",
    "    x2 = int(x0 - 480*(-b))\n",
    "    y2 = int(y0 - 600*(a))\n",
    "    return x1, y1, x2, y2"
   ]
  },
  {
   "cell_type": "code",
   "execution_count": 3,
   "metadata": {},
   "outputs": [],
   "source": [
    "def calibrate_threshold(cap: cv.VideoCapture) -> int:\n",
    "    calibrating = True\n",
    "    threshold = 127\n",
    "    \n",
    "    while calibrating:\n",
    "        ret, frame = cap.read()\n",
    "        # if frame is read correctly ret is True\n",
    "        if not ret:\n",
    "            print(\"Can't receive frame (stream end?). Exiting ...\")\n",
    "            break\n",
    "\n",
    "        imgray = cv.cvtColor(frame, cv.COLOR_BGR2GRAY)\n",
    "        _, thresh = cv.threshold(imgray, threshold, 100, cv.THRESH_BINARY)\n",
    "\n",
    "        pressed_key = cv.waitKey(1)\n",
    "        if pressed_key == ord('a'):\n",
    "            threshold = min(255, threshold + 10)\n",
    "        elif pressed_key == ord('s'):\n",
    "            print('hey')\n",
    "            threshold = max(0, threshold - 10)\n",
    "        elif pressed_key == ord(' '):\n",
    "            calibrating = False\n",
    "\n",
    "        thresh = cv.putText(\n",
    "            thresh, str(threshold), org, font, \n",
    "                   fontScale, (255, 255, 255), thickness, cv.LINE_AA)\n",
    "        # print(threshold)\n",
    "        cv.imshow('frame', thresh)\n",
    "\n",
    "    return threshold"
   ]
  },
  {
   "cell_type": "code",
   "execution_count": 4,
   "metadata": {},
   "outputs": [],
   "source": [
    "multiplier = 0.05\n",
    "\n",
    "def trackbar_callback(value):\n",
    "    global multiplier\n",
    "    multiplier = value * 1e-2\n",
    "    print(multiplier)\n",
    "\n",
    "def calibrate_camera(cap: cv.VideoCapture, threshold: int) -> np.array:\n",
    "    calibrating = True\n",
    "\n",
    "    width = cap.get(cv.CAP_PROP_FRAME_WIDTH)\n",
    "    height = cap.get(cv.CAP_PROP_FRAME_HEIGHT)\n",
    "\n",
    "\n",
    "    image_series = []\n",
    "\n",
    "    cv.namedWindow('frame')\n",
    "\n",
    "    cv.createTrackbar('Threshold', 'frame', 1, 20, trackbar_callback)\n",
    "\n",
    "    while calibrating:\n",
    "        ret, frame = cap.read()\n",
    "        # if frame is read correctly ret is True\n",
    "        if not ret:\n",
    "            print(\"Can't receive frame (stream end?). Exiting ...\")\n",
    "            break\n",
    "        \n",
    "        processed_image = process_image(frame)\n",
    "        if len(image_series) > 10:\n",
    "            image_series[:-1] = image_series[1:]\n",
    "            image_series[-1] = processed_image\n",
    "        else:\n",
    "            image_series.append(processed_image)\n",
    "            \n",
    "        image_median = np.median(image_series, axis=0).astype(\"uint8\")\n",
    "        image_median = cv.medianBlur(image_median, 3)\n",
    "\n",
    "        try:\n",
    "            print(multiplier)\n",
    "            polygon_contour = get_object_polygon_contour(image_median, multiplier)\n",
    "            cv.drawContours(frame, [polygon_contour], -1, (0,255,0), 2)\n",
    "        except Exception as e:\n",
    "            print('nenhum contorno', e)\n",
    "\n",
    "\n",
    "        pressed_key = cv.waitKey(1)\n",
    "        if pressed_key == ord(' '):\n",
    "            calibrating = False\n",
    "        # if pressed_key == ord('a'):\n",
    "        #     multiplier = min(1, multiplier + 0.01)\n",
    "        # elif pressed_key == ord('s'):\n",
    "        #     multiplier = max(0, multiplier - 0.01)\n",
    "        # elif pressed_key == ord(' '):\n",
    "        #     calibrating = False\n",
    "\n",
    "\n",
    "        frame = cv.putText(\n",
    "            frame, str(multiplier), org, font, \n",
    "                   fontScale, (255, 255, 255), thickness, cv.LINE_AA)\n",
    "\n",
    "        cv.imshow('frame', frame)\n",
    "\n",
    "    return polygon_contour, multiplier"
   ]
  },
  {
   "cell_type": "code",
   "execution_count": 5,
   "metadata": {},
   "outputs": [],
   "source": [
    "def get_object_polygon_contour(image_median, multiplier: float = 0.01):\n",
    "    try:\n",
    "        contours,hierarchy = cv.findContours(image_median, cv.RETR_TREE, cv.CHAIN_APPROX_SIMPLE)\n",
    "        area_list = np.array([cv.contourArea(contour) for contour in contours])\n",
    "        object_countour_index = np.argmax(area_list)\n",
    "        contour = contours[object_countour_index]\n",
    "        epsilon = multiplier * cv.arcLength(contour,True)\n",
    "        approx = cv.approxPolyDP(contour,epsilon,True)\n",
    "    except Exception as e:\n",
    "        print('nenhum contorno', e)\n",
    "        return []\n",
    "    return approx"
   ]
  },
  {
   "cell_type": "code",
   "execution_count": 6,
   "metadata": {},
   "outputs": [],
   "source": [
    "def process_image(image):\n",
    "    imgray = cv.cvtColor(image, cv.COLOR_BGR2GRAY)\n",
    "    _, thresh = cv.threshold(imgray, threshold, 255, cv.THRESH_BINARY_INV)\n",
    "    processed_image = cv.morphologyEx(thresh, cv.MORPH_OPEN, kernel)\n",
    "    processed_image = cv.morphologyEx(processed_image, cv.MORPH_DILATE, kernel, iterations=3)\n",
    "    return processed_image"
   ]
  },
  {
   "cell_type": "code",
   "execution_count": 7,
   "metadata": {},
   "outputs": [
    {
     "name": "stdout",
     "output_type": "stream",
     "text": [
      "hey\n",
      "hey\n",
      "hey\n",
      "hey\n",
      "0.01\n",
      "0.01\n",
      "0.01\n",
      "0.01\n",
      "0.01\n",
      "0.01\n",
      "0.01\n",
      "0.01\n",
      "0.01\n",
      "0.01\n",
      "0.01\n",
      "0.01\n",
      "0.01\n",
      "0.01\n",
      "0.01\n",
      "0.01\n",
      "0.01\n",
      "0.01\n",
      "0.01\n",
      "0.01\n",
      "0.01\n",
      "0.01\n",
      "0.01\n",
      "0.01\n",
      "0.01\n",
      "0.01\n",
      "0.01\n",
      "0.01\n",
      "0.01\n",
      "0.01\n",
      "0.01\n",
      "0.01\n",
      "0.01\n",
      "0.01\n",
      "0.01\n",
      "0.01\n",
      "0.01\n",
      "0.01\n",
      "0.01\n",
      "0.01\n",
      "0.01\n",
      "0.01\n",
      "0.01\n",
      "0.01\n",
      "0.01\n",
      "0.01\n",
      "0.01\n",
      "0.01\n",
      "0.01\n",
      "0.01\n",
      "0.01\n",
      "0.01\n",
      "0.01\n",
      "0.01\n",
      "0.01\n"
     ]
    }
   ],
   "source": [
    "cap = cv.VideoCapture(0)\n",
    "if not cap.isOpened():\n",
    "    print(\"Cannot open camera\")\n",
    "    exit()\n",
    "\n",
    "main_loop = True\n",
    "\n",
    "threshold = calibrate_threshold(cap)\n",
    "original_polygon, multiplier = calibrate_camera(cap, threshold)\n",
    "original_moment = cv.moments(original_polygon)\n",
    "original_x_centroid = int(original_moment['m10']/original_moment['m00'])\n",
    "\n",
    "TOLERANCE = 50\n",
    "\n",
    "width = cap.get(cv.CAP_PROP_FRAME_WIDTH)\n",
    "height = cap.get(cv.CAP_PROP_FRAME_HEIGHT)\n",
    "\n",
    "image_series = []\n",
    "\n",
    "while main_loop:\n",
    "    ret, frame = cap.read()\n",
    "\n",
    "    processed_image = process_image(frame)\n",
    "\n",
    "    if len(image_series) > 40:\n",
    "        image_series[:-1] = image_series[1:]\n",
    "        image_series[-1] = processed_image\n",
    "    else:\n",
    "        image_series.append(processed_image)\n",
    "    image_median = np.median(image_series, axis=0).astype(\"uint8\")\n",
    "    image_median = cv.medianBlur(image_median, 3)\n",
    "\n",
    "    \n",
    "    cv.drawContours(frame, [original_polygon], -1, (0, 0, 255), 2)\n",
    "    try:\n",
    "        approx = get_object_polygon_contour(image_median, multiplier)\n",
    "        live_moment = cv.moments(approx)\n",
    "        live_x_centroid = int(live_moment['m10']/live_moment['m00'])\n",
    "        cv.drawContours(frame, [approx], -1, (0,255,0), 2)\n",
    "        cv.line(frame, (live_x_centroid, int(height/2)), (original_x_centroid, int(height/2)), (255, 0, 0), 2)\n",
    "        # cv.fillPoly(frame,pts=[approx],color=(255,255,255))\n",
    "    except Exception as e:\n",
    "        print('nenhum contorno', e)\n",
    "\n",
    "    centroid_difference = original_x_centroid - live_x_centroid\n",
    "    if centroid_difference > TOLERANCE:\n",
    "        actor_response = 'Esquerda'\n",
    "    elif centroid_difference < -TOLERANCE: \n",
    "        actor_response = 'Direita'\n",
    "    else:\n",
    "        actor_response = ' '\n",
    "\n",
    "\n",
    "    frame = cv.putText(\n",
    "            frame, str(np.round(centroid_difference, 2)), org, font, \n",
    "                   fontScale, (0, 0, 0), thickness, cv.LINE_AA)\n",
    "    frame = cv.putText(\n",
    "            frame, actor_response, (50, 150), font, \n",
    "                   fontScale, (0, 0, 0), thickness, cv.LINE_AA)\n",
    "    \n",
    "    cv.imshow('frame', frame)\n",
    "\n",
    "    if cv.waitKey(1) == ord('q'):\n",
    "        main_loop = False\n",
    " \n",
    "# When everything done, release the capture\n",
    "cap.release()\n",
    "cv.destroyAllWindows()"
   ]
  },
  {
   "cell_type": "code",
   "execution_count": 8,
   "metadata": {},
   "outputs": [
    {
     "ename": "NameError",
     "evalue": "name 'window_median_series' is not defined",
     "output_type": "error",
     "traceback": [
      "\u001b[0;31m---------------------------------------------------------------------------\u001b[0m",
      "\u001b[0;31mNameError\u001b[0m                                 Traceback (most recent call last)",
      "Cell \u001b[0;32mIn[8], line 4\u001b[0m\n\u001b[1;32m      1\u001b[0m ax \u001b[38;5;241m=\u001b[39m sns\u001b[38;5;241m.\u001b[39mlineplot(\n\u001b[1;32m      2\u001b[0m     [\n\u001b[1;32m      3\u001b[0m         \u001b[38;5;66;03m# belt_diff_series[50:],\u001b[39;00m\n\u001b[0;32m----> 4\u001b[0m         \u001b[43mwindow_median_series\u001b[49m\n\u001b[1;32m      5\u001b[0m     ], \n\u001b[1;32m      6\u001b[0m     markers\u001b[38;5;241m=\u001b[39m\u001b[38;5;28;01mFalse\u001b[39;00m\n\u001b[1;32m      7\u001b[0m )\n\u001b[1;32m      8\u001b[0m ax\u001b[38;5;241m.\u001b[39maxhline(y\u001b[38;5;241m=\u001b[39mTOLERANCE, linewidth\u001b[38;5;241m=\u001b[39m\u001b[38;5;241m2\u001b[39m, color\u001b[38;5;241m=\u001b[39m\u001b[38;5;124m'\u001b[39m\u001b[38;5;124morange\u001b[39m\u001b[38;5;124m'\u001b[39m, ls\u001b[38;5;241m=\u001b[39m\u001b[38;5;124m'\u001b[39m\u001b[38;5;124m:\u001b[39m\u001b[38;5;124m'\u001b[39m)\n\u001b[1;32m      9\u001b[0m ax\u001b[38;5;241m.\u001b[39maxhline(y\u001b[38;5;241m=\u001b[39m\u001b[38;5;241m-\u001b[39mTOLERANCE, linewidth\u001b[38;5;241m=\u001b[39m\u001b[38;5;241m2\u001b[39m, color\u001b[38;5;241m=\u001b[39m\u001b[38;5;124m'\u001b[39m\u001b[38;5;124morange\u001b[39m\u001b[38;5;124m'\u001b[39m, ls\u001b[38;5;241m=\u001b[39m\u001b[38;5;124m'\u001b[39m\u001b[38;5;124m:\u001b[39m\u001b[38;5;124m'\u001b[39m)\n",
      "\u001b[0;31mNameError\u001b[0m: name 'window_median_series' is not defined"
     ]
    }
   ],
   "source": [
    "ax = sns.lineplot(\n",
    "    [\n",
    "        # belt_diff_series[50:],\n",
    "        window_median_series\n",
    "    ], \n",
    "    markers=False\n",
    ")\n",
    "ax.axhline(y=TOLERANCE, linewidth=2, color='orange', ls=':')\n",
    "ax.axhline(y=-TOLERANCE, linewidth=2, color='orange', ls=':')"
   ]
  },
  {
   "cell_type": "code",
   "execution_count": null,
   "metadata": {},
   "outputs": [
    {
     "data": {
      "text/plain": [
       "<Axes: >"
      ]
     },
     "execution_count": 7,
     "metadata": {},
     "output_type": "execute_result"
    },
    {
     "data": {
      "image/png": "[encoded data removed]",
      "text/plain": [
       "<Figure size 640x480 with 1 Axes>"
      ]
     },
     "metadata": {},
     "output_type": "display_data"
    }
   ],
   "source": [
    "sns.lineplot()"
   ]
  },
  {
   "cell_type": "code",
   "execution_count": null,
   "metadata": {},
   "outputs": [
    {
     "data": {
      "text/plain": [
       "<Axes: >"
      ]
     },
     "execution_count": 8,
     "metadata": {},
     "output_type": "execute_result"
    },
    {
     "data": {
      "image/png": "[encoded data removed]",
      "text/plain": [
       "<Figure size 640x480 with 1 Axes>"
      ]
     },
     "metadata": {},
     "output_type": "display_data"
    }
   ],
   "source": [
    "arr = np.diff(np.sum(255 - thresh, axis=0))\n",
    "arr[arr > 255] = 255\n",
    "sns.lineplot(arr)"
   ]
  },
  {
   "cell_type": "code",
   "execution_count": null,
   "metadata": {},
   "outputs": [
    {
     "data": {
      "text/plain": [
       "<Axes: >"
      ]
     },
     "execution_count": 9,
     "metadata": {},
     "output_type": "execute_result"
    },
    {
     "data": {
      "image/png": "[encoded data removed]",
      "text/plain": [
       "<Figure size 640x480 with 1 Axes>"
      ]
     },
     "metadata": {},
     "output_type": "display_data"
    }
   ],
   "source": [
    "sns.lineplot()"
   ]
  },
  {
   "cell_type": "code",
   "execution_count": null,
   "metadata": {},
   "outputs": [],
   "source": [
    "ret, frame = cap.read()\n",
    "edges = cv.Canny(frame, 200,150)"
   ]
  },
  {
   "cell_type": "code",
   "execution_count": null,
   "metadata": {},
   "outputs": [
    {
     "ename": "NameError",
     "evalue": "name 'plt' is not defined",
     "output_type": "error",
     "traceback": [
      "\u001b[0;31m---------------------------------------------------------------------------\u001b[0m",
      "\u001b[0;31mNameError\u001b[0m                                 Traceback (most recent call last)",
      "Cell \u001b[0;32mIn[11], line 1\u001b[0m\n\u001b[0;32m----> 1\u001b[0m \u001b[43mplt\u001b[49m\u001b[38;5;241m.\u001b[39mimshow(edges)\n",
      "\u001b[0;31mNameError\u001b[0m: name 'plt' is not defined"
     ]
    }
   ],
   "source": [
    "plt.imshow(edges)"
   ]
  },
  {
   "cell_type": "code",
   "execution_count": null,
   "metadata": {},
   "outputs": [],
   "source": [
    "lines = cv.HoughLines(edges,2, np.pi/180,260)\n",
    "\n",
    "try:\n",
    "    for line in lines:\n",
    "        rho,theta = line[0]\n",
    "        a = np.cos(theta)\n",
    "        b = np.sin(theta)\n",
    "        x0 = a*rho\n",
    "        y0 = b*rho\n",
    "        x1 = int(x0 + 1000*(-b))\n",
    "        y1 = int(y0 + 1000*(a))\n",
    "        x2 = int(x0 - 1000*(-b))\n",
    "        y2 = int(y0 - 1000*(a))\n",
    "\n",
    "        cv.line(frame,(x1,y1),(x2,y2),(0,0,255),2)\n",
    "\n",
    "except TypeError as e:\n",
    "    print('Nao foi possivel identificar linhas')"
   ]
  },
  {
   "cell_type": "code",
   "execution_count": null,
   "metadata": {},
   "outputs": [],
   "source": [
    "imgray = cv.cvtColor(frame, cv.COLOR_BGR2GRAY)\n",
    "ret, thresh = cv.threshold(imgray, 127, 255, 0)\n",
    "contours, hierarchy = cv.findContours(thresh, cv.RETR_TREE, cv.CHAIN_APPROX_SIMPLE)"
   ]
  },
  {
   "cell_type": "code",
   "execution_count": null,
   "metadata": {},
   "outputs": [
    {
     "data": {
      "text/plain": [
       "array([[[  0, 255,   0],\n",
       "        [  0, 255,   0],\n",
       "        [  0, 255,   0],\n",
       "        ...,\n",
       "        [  0, 255,   0],\n",
       "        [  0, 255,   0],\n",
       "        [  0, 255,   0]],\n",
       "\n",
       "       [[  0, 255,   0],\n",
       "        [  0, 255,   0],\n",
       "        [  0, 255,   0],\n",
       "        ...,\n",
       "        [  0, 255,   0],\n",
       "        [  0, 255,   0],\n",
       "        [  0, 255,   0]],\n",
       "\n",
       "       [[  0, 255,   0],\n",
       "        [  0, 255,   0],\n",
       "        [  0, 255,   0],\n",
       "        ...,\n",
       "        [  0, 255,   0],\n",
       "        [  0, 255,   0],\n",
       "        [  0, 255,   0]],\n",
       "\n",
       "       ...,\n",
       "\n",
       "       [[  0, 255,   0],\n",
       "        [  0, 255,   0],\n",
       "        [  0, 255,   0],\n",
       "        ...,\n",
       "        [  0, 255,   0],\n",
       "        [  0, 255,   0],\n",
       "        [  0, 255,   0]],\n",
       "\n",
       "       [[  0, 255,   0],\n",
       "        [  0, 255,   0],\n",
       "        [  0, 255,   0],\n",
       "        ...,\n",
       "        [  0, 255,   0],\n",
       "        [  0, 255,   0],\n",
       "        [  0, 255,   0]],\n",
       "\n",
       "       [[  0, 255,   0],\n",
       "        [  0, 255,   0],\n",
       "        [  0, 255,   0],\n",
       "        ...,\n",
       "        [  0, 255,   0],\n",
       "        [  0, 255,   0],\n",
       "        [  0, 255,   0]]], dtype=uint8)"
      ]
     },
     "execution_count": 38,
     "metadata": {},
     "output_type": "execute_result"
    }
   ],
   "source": [
    "cv.drawContours(frame, contours, -1, (0,255,0), 3)"
   ]
  },
  {
   "cell_type": "code",
   "execution_count": null,
   "metadata": {},
   "outputs": [
    {
     "data": {
      "text/plain": [
       "<matplotlib.image.AxesImage at 0x7fbdc9b39070>"
      ]
     },
     "execution_count": 43,
     "metadata": {},
     "output_type": "execute_result"
    },
    {
     "data": {
      "image/png": "[encoded data removed]",
      "text/plain": [
       "<Figure size 640x480 with 1 Axes>"
      ]
     },
     "metadata": {},
     "output_type": "display_data"
    }
   ],
   "source": [
    "imgray = cv.cvtColor(frame, cv.COLOR_BGR2GRAY)\n",
    "ret, thresh = cv.threshold(imgray, 180, 200, 0)\n",
    "plt.imshow(thresh)"
   ]
  },
  {
   "cell_type": "code",
   "execution_count": null,
   "metadata": {},
   "outputs": [],
   "source": [
    "\n",
    "    \n",
    "    ret, frame = cap.read()\n",
    " \n",
    "    # if frame is read correctly ret is True\n",
    "    if not ret:\n",
    "        print(\"Can't receive frame (stream end?). Exiting ...\")\n",
    "        break\n",
    "    edges = cv.Canny(frame,100,200)\n",
    "    # Our operations on the frame come here\n",
    "    # gray = cv.cvtColor(frame, cv.COLOR_BGR2GRAY)\n",
    "    # Display the resulting frame\n",
    "\n",
    "    lines = cv.HoughLines(edges,2, np.pi/180,260)\n",
    "\n",
    "    try:\n",
    "        for line in lines:\n",
    "            rho,theta = line[0]\n",
    "            a = np.cos(theta)\n",
    "            b = np.sin(theta)\n",
    "            x0 = a*rho\n",
    "            y0 = b*rho\n",
    "            x1 = int(x0 + 1000*(-b))\n",
    "            y1 = int(y0 + 1000*(a))\n",
    "            x2 = int(x0 - 1000*(-b))\n",
    "            y2 = int(y0 - 1000*(a))\n",
    "\n",
    "            cv.line(frame,(x1,y1),(x2,y2),(0,0,255),2)\n",
    "\n",
    "    except TypeError as e:\n",
    "        print('Nao foi possivel identificar linhas')\n",
    "\n",
    "    cv.imshow('frame', frame)\n",
    "    if cv.waitKey(1) == ord('q'):\n",
    "        break\n",
    " \n",
    "# When everything done, release the capture\n",
    "cap.release()\n",
    "cv.destroyAllWindows()"
   ]
  }
 ],
 "metadata": {
  "kernelspec": {
   "display_name": "venv",
   "language": "python",
   "name": "python3"
  },
  "language_info": {
   "codemirror_mode": {
    "name": "ipython",
    "version": 3
   },
   "file_extension": ".py",
   "mimetype": "text/x-python",
   "name": "python",
   "nbconvert_exporter": "python",
   "pygments_lexer": "ipython3",
   "version": "3.12.4"
  }
 },
 "nbformat": 4,
 "nbformat_minor": 2
}
